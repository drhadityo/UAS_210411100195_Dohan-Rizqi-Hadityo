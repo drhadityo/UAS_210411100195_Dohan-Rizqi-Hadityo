{
 "cells": [
  {
   "cell_type": "markdown",
   "id": "53160885",
   "metadata": {},
   "source": [
    "**Nama : Dohan Rizqi Hadityo | NIM : 210411100195 | Kelas : Metode Statistika D | No.Whatsapp : 0812-3009-0673**"
   ]
  },
  {
   "cell_type": "markdown",
   "id": "05de00d6",
   "metadata": {},
   "source": [
    "## Estimasi Rata-Rata, Standard Deviasi, Skewness, dan Kurtosis\n",
    "\n",
    "### Estimasi Rata-Rata\n",
    "\n",
    "Interval estimasi adalah selompok nilai statistik sampel dalam intervaltertentu yang dapat digunakan untuk melakukan estimasi terhadap parameter  populasi dengan harapan bahwa nilai parameter populasi terletak didalam intervaltersebut (Budiarto, 2001, p. 162.\n",
    "\n",
    "##### Rumus :\n",
    "\n",
    "Rata-rata (xbar)-t(a/2) x s/√𝑛 < 𝜇 < Rata-rata (xbar) + t(a/2) x s/√𝑛\n",
    "\n",
    "xbar = rata-rata\n",
    "s = standard deviasi\n",
    "n = jumlah sampel\n",
    "\n",
    "### Standard Deviasi\n",
    "\n",
    "Standar deviasi dalam buku Statistika Hospitalitas diartikan sebagai ukuran sebaran data dalam disiplin statistik yang juga dikenal sebagai simpangan baku. Standar deviasi juga bisa diartikan sebagai akar varian sebaran data.\n",
    "\n",
    "Sementara itu, Investopedia menyebutkan, standar deviasi adalah nilai statistik yang digunakan untuk menentukan kedekatan sampel statistik dengan rata-rata sebuah data. Semakin tinggi nilai standar deviasi maka semakin lebar pula rentang variasi datanya.\n",
    "\n",
    "Dengan demikian, standar deviasi bisa memberikan gambaran gap antara nilai sampel terhadap rata-ratanya. Rumus standar deviasi dipakai untuk menanalisis apakah sampel bisa mewakili populasi dalam penelitian. Standar deviasi juga bisa menggambarkan kualitas data sampel yang didapatkan.\n",
    "\n",
    "Rumus standar deviasi biasa disebut dengan simpangan baku atau dengan simbol σ maupun S. Untuk menentukan standar deviasi diawali dengan menghitung nilai rata-rata dari semua titik data.\n",
    "\n",
    "### Skewness (Kemiringan)\n",
    "\n",
    "Kemencengan atau kecondongan (skewness) adalah tingkat ketidaksimetrisan atau kejauhan simetri dari sebuah distribusi. Skewness diartikan sebagai kemiringan distribusi data. Sebuah distribusi yang tidak simetris akan memiliki rata-rata, median, dan modus yang tidak sama besarnya sehingga distribusi akan terkonsentrasi pada salah satu sisi dan kurvanya akan menceng. Ukuran kemiringan kurva adalah derajat atau ukuran dari ketidaksimetrian suatu distribusi data. Nilai skewness (ukuran kemiringan) menunjukkan data normal ketika nilai-nilai tersebut berada di antara rentang nilai -2 sampai dengan 2. Kurva positif apabila rata-rata hitung > modus/median. Kurva negative apabila rata-rata hitung < modus/media. Jika distribusi memiliki ekor yang lebih panjang ke kanan daripada yang ke kiri maka distribusi disebut menceng ke kanan atau memiliki kemencengan positif. Sebaliknya, jika distribusi memiliki ekor yang lebih panjang ke kiri daripada yang ke kanan maka distribusi disebut menceng ke kiri atau memiliki kemencengan negatif. Berikut ini gambar kurva dari distribusi yang menceng ke kanan (menceng positif) dan menceng ke kiri (menceng negatif) (Ghozali, 2016).\n",
    "\n",
    "Kriteria untuk mengetahui model distribusi dari koefisien kemiringan :\n",
    "\n",
    "- Jika koefisien kemiringan <nol, maka bentuk distribusinya negative (ekor bagian kiri lebih Panjang).\n",
    "- Jika koefisien kemiringan = nol, maka bentuk distribusinya simetrik.\n",
    "- Jika koefisien kemiringan > nol, maka bentuk distribusinya positif (ekor bagian kanan lebih Panjang).\n",
    "\n",
    "### Kurtosis (Keruncingan)\n",
    "\n",
    "Keruncingan disebut juga ketinggian kurva. Keruncingan atau kurtosis adalah tingkat kepuncakan dari sebuah distribusi yang biasanya diambil secararelatif terhadap suatu distribusi normal. Rata-rata dan ukuran penyebaran dapat menggambarkan distribusi data tetapi tidak cukup untuk menggambarkan sifat distribusi. Untuk dapat menggambarkan karakteristik dari suatu distribusi data, kita menggunakan konsep-konsep yang dikenal sebagai kemiringan (skewness) dan keruncingan (kurtosis). Ukuran keruncingan (Kurtosis) adalah derajat kepuncakan dari suatu distribusi, biasanya diambil relative terhadap distribusi normal. Andi Supangat (2007: 126) mengatakan bahwa tingkat keruncingan dari suatu kurva (kurtosis) merupakan besaran untuk menentukan jenis kurva (runcing, normal, atau datar). Kurtosis (ketinggian kurva) pada distribusi frekuensi di bagi dalam tiga bagian yaitu (1) leptokurtis (sangat runcing), mesokurtis (keruncingan sedang) dan platykurtis (kurva datar).\n",
    "\n",
    "Kriteria untuk mengetahui model distribusi dari koefisien kurtosis sebagai berikut :\n",
    "\n",
    "- Jika koefisien kurang dari 3 maka distribusinya adalah platikurtik\n",
    "- Jika koefisien kurtosis sama dengan 3 maka distribusinya adalah mesokurtic\n",
    "- Jika koefisien kurtosis lebih dari 3 maka distribusinya adalah leptokurtic."
   ]
  },
  {
   "cell_type": "code",
   "execution_count": 12,
   "id": "75d0a06d",
   "metadata": {},
   "outputs": [
    {
     "name": "stdout",
     "output_type": "stream",
     "text": [
      "(46.19194820333958, 61.60805179666042)\n"
     ]
    }
   ],
   "source": [
    "#program estimasi rata-rata\n",
    "import math\n",
    "\n",
    "n=math.sqrt(10)\n",
    "s=7.50\n",
    "ta=3.250\n",
    "xbar=53.9\n",
    "\n",
    "hasil = xbar - ta*s/n, xbar + ta*s/n\n",
    "\n",
    "print(hasil)"
   ]
  },
  {
   "cell_type": "code",
   "execution_count": 5,
   "id": "88df521d",
   "metadata": {},
   "outputs": [
    {
     "name": "stdout",
     "output_type": "stream",
     "text": [
      "Standar Deviasi adalah:  7.119691004531026\n"
     ]
    }
   ],
   "source": [
    "#Program Standard Deviasi\n",
    "def standar_deviasi(data) :\n",
    "    jumlah=0\n",
    "    for i in range (len(data)):\n",
    "        jumlah+=data[i]\n",
    "        \n",
    "    rata=jumlah/len(data)\n",
    "    sigma=0\n",
    "    for i in range (len(data)):\n",
    "        hitung=(data[i]-rata)**2\n",
    "        sigma+=hitung\n",
    "    pembagianN=sigma/len(data)\n",
    "    cariStandar_Deviasi=pembagianN**0.5\n",
    "    print(\"Standar Deviasi adalah: \", cariStandar_Deviasi)\n",
    "    \n",
    "data=[50,58,43,64,47,50,56,47,60,64]\n",
    "standar_deviasi(data)"
   ]
  },
  {
   "cell_type": "code",
   "execution_count": 6,
   "id": "ee3be284",
   "metadata": {},
   "outputs": [
    {
     "data": {
      "text/plain": [
       "-1.380579722068635"
      ]
     },
     "execution_count": 6,
     "metadata": {},
     "output_type": "execute_result"
    }
   ],
   "source": [
    "from scipy.stats import kurtosis\n",
    "\n",
    "data = [50,58,43,64,47,50,56,47,60,64]\n",
    "kurtosis(data)"
   ]
  },
  {
   "cell_type": "code",
   "execution_count": 7,
   "id": "3520001b",
   "metadata": {},
   "outputs": [
    {
     "data": {
      "text/plain": [
       "0.08176290963037283"
      ]
     },
     "execution_count": 7,
     "metadata": {},
     "output_type": "execute_result"
    }
   ],
   "source": [
    "from scipy.stats import skew\n",
    "data = [50,58,43,64,47,50,56,47,60,64]\n",
    "skew(data)"
   ]
  },
  {
   "cell_type": "markdown",
   "id": "a171be46",
   "metadata": {},
   "source": [
    "### KNN Regresi \n",
    "\n",
    "Algoritma KNN merupakan algoritma klasifikasi yang bekerja dengan mengambil sejumlah K data terdekat (tetangganya) sebagai acuan untuk menentukan kelas dari data baru. Algoritma ini mengklasifikasikan data berdasarkan similarity atau kemiripan atau kedekatannya terhadap data lainnya. Dalam K-Nearest Neighbor, data point yang berada berdekatan disebut “neighbor” atau  “tetangga”. \n",
    "\n",
    "###### Secara umum, cara kerja algoritma KNN adalah sebagai berikut.\n",
    "\n",
    "1. Tentukan jumlah tetangga (K) yang akan digunakan untuk pertimbangan penentuan kelas.\n",
    "2. Hitung jarak dari data baru ke masing-masing data point di dataset.\n",
    "3. Ambil sejumlah K data dengan jarak terdekat, kemudian tentukan kelas dari data baru tersebut.\n",
    "\n",
    "###### Kelebihan Algoritma K-Nearest Neighbor:\n",
    "\n",
    "1. Lebih efektif pada data latihnya besar\n",
    "2. Mudah dipahami dan di Implementasikan\n",
    "3. Non-linear, Karena algoritma K-NN bersifat non-parametik.\n",
    "4. Menghasilkan data yang lebih akurat\n",
    "\n",
    "###### Kekurangan Algoritma K-Nearest Neighbor:\n",
    "\n",
    "1. Harus menentukan parameter K (jumlah tetangga terdekat)\n",
    "2. Sensitif terhadap data outlier\n",
    "3. Tingginya nilai komputasi\n",
    "4. Sensitif terhadap perbedaan rentang variabel dan dimensionalitas\n",
    "5. Sensitif terhadap dimensionalitas yang tinggi"
   ]
  },
  {
   "cell_type": "code",
   "execution_count": null,
   "id": "ef250832",
   "metadata": {},
   "outputs": [],
   "source": [
    "from sklearn.neighbors import KNeighborsRegressor\n",
    "knnr = KNeighborsRegressor(n,neighbors = 3)\n",
    "knnr.fit(x,y)\n",
    "print(\"The MSE is :\",format(np.power(y-knnr.predict(x),2).mean())"
   ]
  },
  {
   "cell_type": "markdown",
   "id": "ca2daf31",
   "metadata": {},
   "source": [
    "### Selang Kepercayaan (Interval Confident)\n",
    "\n",
    "Ada dua bentuk estimasi parameter populasi (θ) dalam statistika, yaitu estimasi titik dan estimasi selang. Peluang menghasilkan nilai parameter dengan menggunakan estimasi titik biasanya sangat kecil. Oleh karena itu, dirancanglah suatu bentuk estimasi parameter populasi yaitu dengan menggunakan selang (interval) kepercayaan. Dengan estimasi selang kepercayaan, peluang mendapatkan nilai parameter akan menjadi lebih besar.\n",
    "\n"
   ]
  },
  {
   "cell_type": "code",
   "execution_count": 1,
   "id": "930a025b",
   "metadata": {},
   "outputs": [],
   "source": [
    "import numpy as np\n",
    "from scipy import stats\n"
   ]
  },
  {
   "cell_type": "code",
   "execution_count": 13,
   "id": "aa5e5a46",
   "metadata": {},
   "outputs": [
    {
     "name": "stdout",
     "output_type": "stream",
     "text": [
      "(2.5020000000000002, 2.698)\n"
     ]
    }
   ],
   "source": [
    "a = 2.6\n",
    "b = 1.96\n",
    "c = 0.05\n",
    "\n",
    "hasil = a - b*c, a+b*c\n",
    "print(hasil)"
   ]
  }
 ],
 "metadata": {
  "kernelspec": {
   "display_name": "Python 3 (ipykernel)",
   "language": "python",
   "name": "python3"
  },
  "language_info": {
   "codemirror_mode": {
    "name": "ipython",
    "version": 3
   },
   "file_extension": ".py",
   "mimetype": "text/x-python",
   "name": "python",
   "nbconvert_exporter": "python",
   "pygments_lexer": "ipython3",
   "version": "3.9.12"
  }
 },
 "nbformat": 4,
 "nbformat_minor": 5
}
